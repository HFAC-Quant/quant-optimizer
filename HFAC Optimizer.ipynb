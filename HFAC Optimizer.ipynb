{
 "cells": [
  {
   "cell_type": "code",
   "execution_count": 1,
   "metadata": {
    "id": "p-VfxokgLssa"
   },
   "outputs": [],
   "source": [
    "import os\n",
    "import sys\n",
    "sys.path.insert(0, os.path.abspath('..'))"
   ]
  },
  {
   "cell_type": "code",
   "execution_count": 2,
   "metadata": {
    "colab": {
     "base_uri": "https://localhost:8080/",
     "height": 328
    },
    "id": "mr9EpPe_Lssg",
    "outputId": "d3cb3814-f089-4209-ecca-59500733cead"
   },
   "outputs": [],
   "source": [
    "%matplotlib inline\n",
    "import numpy as np\n",
    "import pandas as pd\n",
    "import quandl\n",
    "import yahoo_fin.stock_info as si\n",
    "\n",
    "import cvxportfolio as cp"
   ]
  },
  {
   "cell_type": "markdown",
   "metadata": {
    "id": "6kbABHimNFaz"
   },
   "source": [
    "# Universe (Don't Run This Stuff)\n",
    "[Under Construction, skip to next section] We define the universe of tradeable assets for HFAC. HFAC only trades micro-cap and small-cap equities (<$5 billion market cap)."
   ]
  },
  {
   "cell_type": "markdown",
   "metadata": {},
   "source": [
    "## To Do\n",
    "Scrape the ticker symbols of the small cap stocks using this website: https://finviz.com/screener.ashx?v=111&f=cap_small,geo_usa."
   ]
  },
  {
   "cell_type": "code",
   "execution_count": 12,
   "metadata": {},
   "outputs": [],
   "source": [
    "nasdaq_list = pd.read_csv('data/nasdaqlisted.txt', sep='|', skipfooter=1, engine='python')\n",
    "other_list = pd.read_csv('data/otherlisted.txt', sep='|', skipfooter=1, engine='python')"
   ]
  },
  {
   "cell_type": "code",
   "execution_count": 19,
   "metadata": {},
   "outputs": [],
   "source": [
    "symbols = pd.concat([nasdaq_list['Symbol'], other_list['NASDAQ Symbol']])"
   ]
  },
  {
   "cell_type": "code",
   "execution_count": 20,
   "metadata": {},
   "outputs": [
    {
     "data": {
      "text/plain": [
       "0        AACG\n",
       "1        AACQ\n",
       "2       AACQU\n",
       "3       AACQW\n",
       "4         AAL\n",
       "        ...  \n",
       "5505      ZTS\n",
       "5506      ZUO\n",
       "5507      ZVV\n",
       "5508    ZXIET\n",
       "5509     ZYME\n",
       "Length: 9338, dtype: object"
      ]
     },
     "execution_count": 20,
     "metadata": {},
     "output_type": "execute_result"
    }
   ],
   "source": [
    "symbols"
   ]
  },
  {
   "cell_type": "code",
   "execution_count": 3,
   "metadata": {
    "id": "jzjTHB-9VX5r"
   },
   "outputs": [
    {
     "data": {
      "text/plain": [
       "{'AAPL': {'1y Target Est': 124.81,\n",
       "  '52 Week Range': '53.15 - 137.98',\n",
       "  'Ask': '117.09 x 1100',\n",
       "  'Avg. Volume': 153793993.0,\n",
       "  'Beta (5Y Monthly)': 1.35,\n",
       "  'Bid': '117.02 x 900',\n",
       "  \"Day's Range\": '117.29 - 118.77',\n",
       "  'EPS (TTM)': 3.28,\n",
       "  'Earnings Date': 'Jan 26, 2021 - Feb 01, 2021',\n",
       "  'Ex-Dividend Date': 'Nov 06, 2020',\n",
       "  'Forward Dividend & Yield': '0.82 (0.70%)',\n",
       "  'Market Cap': '1.995T',\n",
       "  'Open': 118.64,\n",
       "  'PE Ratio (TTM)': 35.77,\n",
       "  'Previous Close': 118.64,\n",
       "  'Quote Price': 117.33999633789062,\n",
       "  'Volume': 73604287.0},\n",
       " 'AMGN': {'1y Target Est': 252.67,\n",
       "  '52 Week Range': '177.05 - 264.97',\n",
       "  'Ask': '223.37 x 1100',\n",
       "  'Avg. Volume': 2875052.0,\n",
       "  'Beta (5Y Monthly)': 0.81,\n",
       "  'Bid': '221.51 x 1000',\n",
       "  \"Day's Range\": '221.48 - 225.09',\n",
       "  'EPS (TTM)': 12.4,\n",
       "  'Earnings Date': 'Jan 28, 2021 - Feb 01, 2021',\n",
       "  'Ex-Dividend Date': 'Nov 13, 2020',\n",
       "  'Forward Dividend & Yield': '6.40 (2.87%)',\n",
       "  'Market Cap': '129.923B',\n",
       "  'Open': 223.22,\n",
       "  'PE Ratio (TTM)': 18.0,\n",
       "  'Previous Close': 224.67,\n",
       "  'Quote Price': 223.1699981689453,\n",
       "  'Volume': 2956252.0},\n",
       " 'AXP': {'1y Target Est': 111.2,\n",
       "  '52 Week Range': '67.00 - 138.13',\n",
       "  'Ask': '112.57 x 800',\n",
       "  'Avg. Volume': 4393556.0,\n",
       "  'Beta (5Y Monthly)': 1.22,\n",
       "  'Bid': '111.76 x 900',\n",
       "  \"Day's Range\": '111.90 - 114.54',\n",
       "  'EPS (TTM)': 4.06,\n",
       "  'Earnings Date': 'Jan 22, 2021 - Jan 26, 2021',\n",
       "  'Ex-Dividend Date': 'Oct 08, 2020',\n",
       "  'Forward Dividend & Yield': '1.72 (1.53%)',\n",
       "  'Market Cap': '90.65B',\n",
       "  'Open': 113.74,\n",
       "  'PE Ratio (TTM)': 27.72,\n",
       "  'Previous Close': 114.14,\n",
       "  'Quote Price': 112.58000183105469,\n",
       "  'Volume': 3702636.0},\n",
       " 'BA': {'1y Target Est': 200.55,\n",
       "  '52 Week Range': '89.00 - 374.77',\n",
       "  'Ask': '199.18 x 900',\n",
       "  'Avg. Volume': 22722058.0,\n",
       "  'Beta (5Y Monthly)': 1.39,\n",
       "  'Bid': '199.15 x 800',\n",
       "  \"Day's Range\": '199.17 - 206.58',\n",
       "  'EPS (TTM)': -7.89,\n",
       "  'Earnings Date': 'Jan 27, 2021 - Feb 01, 2021',\n",
       "  'Ex-Dividend Date': 'Feb 13, 2020',\n",
       "  'Forward Dividend & Yield': 'N/A (N/A)',\n",
       "  'Market Cap': '112.691B',\n",
       "  'Open': 204.59,\n",
       "  'PE Ratio (TTM)': nan,\n",
       "  'Previous Close': 205.67,\n",
       "  'Quote Price': 199.6199951171875,\n",
       "  'Volume': 17995578.0},\n",
       " 'CAT': {'1y Target Est': 165.6,\n",
       "  '52 Week Range': '87.50 - 176.37',\n",
       "  'Ask': '172.40 x 900',\n",
       "  'Avg. Volume': 3477350.0,\n",
       "  'Beta (5Y Monthly)': 0.98,\n",
       "  'Bid': '171.28 x 800',\n",
       "  \"Day's Range\": '171.31 - 173.12',\n",
       "  'EPS (TTM)': 6.03,\n",
       "  'Earnings Date': 'Jan 29, 2021 - Feb 02, 2021',\n",
       "  'Ex-Dividend Date': 'Oct 23, 2020',\n",
       "  'Forward Dividend & Yield': '4.12 (2.39%)',\n",
       "  'Market Cap': '93.565B',\n",
       "  'Open': 172.45,\n",
       "  'PE Ratio (TTM)': 28.55,\n",
       "  'Previous Close': 172.9,\n",
       "  'Quote Price': 172.22999572753906,\n",
       "  'Volume': 2276203.0},\n",
       " 'CRM': {'1y Target Est': 277.63,\n",
       "  '52 Week Range': '115.29 - 284.50',\n",
       "  'Ask': '258.08 x 800',\n",
       "  'Avg. Volume': 7847666.0,\n",
       "  'Beta (5Y Monthly)': 1.28,\n",
       "  'Bid': '258.30 x 900',\n",
       "  \"Day's Range\": '257.82 - 265.02',\n",
       "  'EPS (TTM)': 2.59,\n",
       "  'Earnings Date': 'Dec 01, 2020',\n",
       "  'Ex-Dividend Date': nan,\n",
       "  'Forward Dividend & Yield': 'N/A (N/A)',\n",
       "  'Market Cap': '234.816B',\n",
       "  'Open': 263.59,\n",
       "  'PE Ratio (TTM)': 99.59,\n",
       "  'Previous Close': 264.65,\n",
       "  'Quote Price': 258.0400085449219,\n",
       "  'Volume': 6922389.0},\n",
       " 'CSCO': {'1y Target Est': 47.95,\n",
       "  '52 Week Range': '32.40 - 50.28',\n",
       "  'Ask': '40.98 x 1000',\n",
       "  'Avg. Volume': 24884907.0,\n",
       "  'Beta (5Y Monthly)': 0.85,\n",
       "  'Bid': '40.88 x 2200',\n",
       "  \"Day's Range\": '40.92 - 41.39',\n",
       "  'EPS (TTM)': 2.47,\n",
       "  'Earnings Date': 'Feb 09, 2021',\n",
       "  'Ex-Dividend Date': 'Oct 01, 2020',\n",
       "  'Forward Dividend & Yield': '1.44 (3.51%)',\n",
       "  'Market Cap': '173.119B',\n",
       "  'Open': 41.05,\n",
       "  'PE Ratio (TTM)': 16.59,\n",
       "  'Previous Close': 41.17,\n",
       "  'Quote Price': 40.970001220703125,\n",
       "  'Volume': 19778945.0},\n",
       " 'CVX': {'1y Target Est': 95.28,\n",
       "  '52 Week Range': '51.60 - 122.72',\n",
       "  'Ask': '85.99 x 1100',\n",
       "  'Avg. Volume': 11466906.0,\n",
       "  'Beta (5Y Monthly)': 1.21,\n",
       "  'Bid': '85.64 x 800',\n",
       "  \"Day's Range\": '84.88 - 86.31',\n",
       "  'EPS (TTM)': -6.18,\n",
       "  'Earnings Date': 'Jan 29, 2021 - Feb 02, 2021',\n",
       "  'Ex-Dividend Date': 'Nov 17, 2020',\n",
       "  'Forward Dividend & Yield': '5.16 (6.02%)',\n",
       "  'Market Cap': '165.147B',\n",
       "  'Open': 85.72,\n",
       "  'PE Ratio (TTM)': nan,\n",
       "  'Previous Close': 85.73,\n",
       "  'Quote Price': 85.79000091552734,\n",
       "  'Volume': 8102364.0},\n",
       " 'DIS': {'1y Target Est': 150.17,\n",
       "  '52 Week Range': '79.07 - 153.41',\n",
       "  'Ask': '142.00 x 900',\n",
       "  'Avg. Volume': 9794427.0,\n",
       "  'Beta (5Y Monthly)': 1.08,\n",
       "  'Bid': '141.08 x 1200',\n",
       "  \"Day's Range\": '140.86 - 142.61',\n",
       "  'EPS (TTM)': -1.59,\n",
       "  'Earnings Date': 'Feb 02, 2021 - Feb 08, 2021',\n",
       "  'Ex-Dividend Date': 'Dec 13, 2019',\n",
       "  'Forward Dividend & Yield': 'N/A (N/A)',\n",
       "  'Market Cap': '254.922B',\n",
       "  'Open': 141.71,\n",
       "  'PE Ratio (TTM)': nan,\n",
       "  'Previous Close': 141.72,\n",
       "  'Quote Price': 141.07000732421875,\n",
       "  'Volume': 7895354.0},\n",
       " 'DOW': {'1y Target Est': 50.95,\n",
       "  '52 Week Range': '21.95 - 56.28',\n",
       "  'Ask': '54.73 x 3000',\n",
       "  'Avg. Volume': 4455636.0,\n",
       "  'Beta (5Y Monthly)': nan,\n",
       "  'Bid': '54.70 x 800',\n",
       "  \"Day's Range\": '54.28 - 55.42',\n",
       "  'EPS (TTM)': -3.17,\n",
       "  'Earnings Date': 'Jan 28, 2021',\n",
       "  'Ex-Dividend Date': 'Nov 27, 2020',\n",
       "  'Forward Dividend & Yield': '2.80 (5.06%)',\n",
       "  'Market Cap': '40.596B',\n",
       "  'Open': 55.07,\n",
       "  'PE Ratio (TTM)': nan,\n",
       "  'Previous Close': 55.34,\n",
       "  'Quote Price': 54.72999954223633,\n",
       "  'Volume': 2753925.0},\n",
       " 'GS': {'1y Target Est': 256.41,\n",
       "  '52 Week Range': '130.85 - 250.46',\n",
       "  'Ask': '223.99 x 1300',\n",
       "  'Avg. Volume': 3373393.0,\n",
       "  'Beta (5Y Monthly)': 1.42,\n",
       "  'Bid': '223.23 x 900',\n",
       "  \"Day's Range\": '222.63 - 224.81',\n",
       "  'EPS (TTM)': 17.35,\n",
       "  'Earnings Date': 'Jan 13, 2021 - Jan 18, 2021',\n",
       "  'Ex-Dividend Date': 'Dec 01, 2020',\n",
       "  'Forward Dividend & Yield': '5.00 (2.24%)',\n",
       "  'Market Cap': '76.848B',\n",
       "  'Open': 223.0,\n",
       "  'PE Ratio (TTM)': 12.88,\n",
       "  'Previous Close': 224.57,\n",
       "  'Quote Price': 223.35000610351562,\n",
       "  'Volume': 1755255.0},\n",
       " 'HD': {'1y Target Est': 304.61,\n",
       "  '52 Week Range': '140.63 - 292.95',\n",
       "  'Ask': '269.81 x 900',\n",
       "  'Avg. Volume': 3581590.0,\n",
       "  'Beta (5Y Monthly)': 1.12,\n",
       "  'Bid': '269.75 x 800',\n",
       "  \"Day's Range\": '268.87 - 272.37',\n",
       "  'EPS (TTM)': 10.92,\n",
       "  'Earnings Date': 'Nov 17, 2020',\n",
       "  'Ex-Dividend Date': 'Sep 02, 2020',\n",
       "  'Forward Dividend & Yield': '6.00 (2.21%)',\n",
       "  'Market Cap': '303.733B',\n",
       "  'Open': 271.45,\n",
       "  'PE Ratio (TTM)': 24.71,\n",
       "  'Previous Close': 270.93,\n",
       "  'Quote Price': 269.80999755859375,\n",
       "  'Volume': 3966587.0},\n",
       " 'HON': {'1y Target Est': 190.29,\n",
       "  '52 Week Range': '101.08 - 210.00',\n",
       "  'Ask': '201.98 x 900',\n",
       "  'Avg. Volume': 3286673.0,\n",
       "  'Beta (5Y Monthly)': 1.04,\n",
       "  'Bid': '201.50 x 1100',\n",
       "  \"Day's Range\": '200.50 - 203.33',\n",
       "  'EPS (TTM)': 6.98,\n",
       "  'Earnings Date': 'Jan 29, 2021 - Feb 02, 2021',\n",
       "  'Ex-Dividend Date': 'Nov 12, 2020',\n",
       "  'Forward Dividend & Yield': '3.72 (1.84%)',\n",
       "  'Market Cap': '141.741B',\n",
       "  'Open': 201.77,\n",
       "  'PE Ratio (TTM)': 28.95,\n",
       "  'Previous Close': 202.72,\n",
       "  'Quote Price': 202.0,\n",
       "  'Volume': 2290630.0},\n",
       " 'IBM': {'1y Target Est': 137.13,\n",
       "  '52 Week Range': '90.56 - 158.75',\n",
       "  'Ask': '117.19 x 800',\n",
       "  'Avg. Volume': 5335761.0,\n",
       "  'Beta (5Y Monthly)': 1.25,\n",
       "  'Bid': '116.70 x 800',\n",
       "  \"Day's Range\": '116.69 - 118.04',\n",
       "  'EPS (TTM)': 8.82,\n",
       "  'Earnings Date': 'Jan 21, 2021',\n",
       "  'Ex-Dividend Date': 'Nov 09, 2020',\n",
       "  'Forward Dividend & Yield': '6.52 (5.56%)',\n",
       "  'Market Cap': '104.2B',\n",
       "  'Open': 117.6,\n",
       "  'PE Ratio (TTM)': 13.25,\n",
       "  'Previous Close': 117.18,\n",
       "  'Quote Price': 116.94000244140625,\n",
       "  'Volume': 4550863.0},\n",
       " 'INTC': {'1y Target Est': 52.9,\n",
       "  '52 Week Range': '43.61 - 69.29',\n",
       "  'Ask': '45.49 x 3000',\n",
       "  'Avg. Volume': 33537040.0,\n",
       "  'Beta (5Y Monthly)': 0.72,\n",
       "  'Bid': '45.42 x 4000',\n",
       "  \"Day's Range\": '45.33 - 45.88',\n",
       "  'EPS (TTM)': 5.11,\n",
       "  'Earnings Date': 'Jan 21, 2021',\n",
       "  'Ex-Dividend Date': 'Nov 05, 2020',\n",
       "  'Forward Dividend & Yield': '1.32 (2.91%)',\n",
       "  'Market Cap': '186.008B',\n",
       "  'Open': 45.66,\n",
       "  'PE Ratio (TTM)': 8.88,\n",
       "  'Previous Close': 45.62,\n",
       "  'Quote Price': 45.38999938964844,\n",
       "  'Volume': 24199278.0},\n",
       " 'JNJ': {'1y Target Est': 166.18,\n",
       "  '52 Week Range': '109.16 - 157.00',\n",
       "  'Ask': '146.40 x 900',\n",
       "  'Avg. Volume': 6559447.0,\n",
       "  'Beta (5Y Monthly)': 0.69,\n",
       "  'Bid': '146.55 x 900',\n",
       "  \"Day's Range\": '146.13 - 147.94',\n",
       "  'EPS (TTM)': 6.36,\n",
       "  'Earnings Date': 'Jan 26, 2021',\n",
       "  'Ex-Dividend Date': 'Nov 23, 2020',\n",
       "  'Forward Dividend & Yield': '4.04 (2.75%)',\n",
       "  'Market Cap': '385.299B',\n",
       "  'Open': 147.05,\n",
       "  'PE Ratio (TTM)': 23.01,\n",
       "  'Previous Close': 147.14,\n",
       "  'Quote Price': 146.36000061035156,\n",
       "  'Volume': 6355514.0},\n",
       " 'JPM': {'1y Target Est': 118.61,\n",
       "  '52 Week Range': '76.91 - 141.10',\n",
       "  'Ask': '114.35 x 800',\n",
       "  'Avg. Volume': 16775427.0,\n",
       "  'Beta (5Y Monthly)': 1.14,\n",
       "  'Bid': '114.32 x 1100',\n",
       "  \"Day's Range\": '114.09 - 115.65',\n",
       "  'EPS (TTM)': 7.67,\n",
       "  'Earnings Date': 'Jan 15, 2021',\n",
       "  'Ex-Dividend Date': 'Oct 05, 2020',\n",
       "  'Forward Dividend & Yield': '3.60 (3.14%)',\n",
       "  'Market Cap': '349.232B',\n",
       "  'Open': 114.43,\n",
       "  'PE Ratio (TTM)': 14.94,\n",
       "  'Previous Close': 115.56,\n",
       "  'Quote Price': 114.56999969482422,\n",
       "  'Volume': 12217657.0},\n",
       " 'KO': {'1y Target Est': 56.4,\n",
       "  '52 Week Range': '36.27 - 60.13',\n",
       "  'Ask': '52.70 x 1800',\n",
       "  'Avg. Volume': 14954610.0,\n",
       "  'Beta (5Y Monthly)': 0.55,\n",
       "  'Bid': '52.53 x 1400',\n",
       "  \"Day's Range\": '52.59 - 53.25',\n",
       "  'EPS (TTM)': 1.93,\n",
       "  'Earnings Date': 'Jan 28, 2021 - Feb 01, 2021',\n",
       "  'Ex-Dividend Date': 'Nov 30, 2020',\n",
       "  'Forward Dividend & Yield': '1.64 (3.11%)',\n",
       "  'Market Cap': '226.346B',\n",
       "  'Open': 53.19,\n",
       "  'PE Ratio (TTM)': 27.29,\n",
       "  'Previous Close': 53.13,\n",
       "  'Quote Price': 52.66999816894531,\n",
       "  'Volume': 14690758.0},\n",
       " 'MCD': {'1y Target Est': 241.62,\n",
       "  '52 Week Range': '124.23 - 231.91',\n",
       "  'Ask': '214.45 x 1300',\n",
       "  'Avg. Volume': 2970329.0,\n",
       "  'Beta (5Y Monthly)': 0.63,\n",
       "  'Bid': '214.00 x 1000',\n",
       "  \"Day's Range\": '213.62 - 215.21',\n",
       "  'EPS (TTM)': 6.55,\n",
       "  'Earnings Date': 'Jan 27, 2021 - Feb 01, 2021',\n",
       "  'Ex-Dividend Date': 'Nov 30, 2020',\n",
       "  'Forward Dividend & Yield': '5.16 (2.40%)',\n",
       "  'Market Cap': '159.521B',\n",
       "  'Open': 214.39,\n",
       "  'PE Ratio (TTM)': 32.66,\n",
       "  'Previous Close': 215.11,\n",
       "  'Quote Price': 214.08999633789062,\n",
       "  'Volume': 3306496.0},\n",
       " 'MMM': {'1y Target Est': 173.44,\n",
       "  '52 Week Range': '114.04 - 182.55',\n",
       "  'Ask': '172.89 x 1000',\n",
       "  'Avg. Volume': 2440293.0,\n",
       "  'Beta (5Y Monthly)': 0.94,\n",
       "  'Bid': '172.59 x 900',\n",
       "  \"Day's Range\": '170.96 - 172.95',\n",
       "  'EPS (TTM)': 8.53,\n",
       "  'Earnings Date': 'Jan 26, 2021',\n",
       "  'Ex-Dividend Date': 'Nov 19, 2020',\n",
       "  'Forward Dividend & Yield': '5.88 (3.40%)',\n",
       "  'Market Cap': '99.727B',\n",
       "  'Open': 171.5,\n",
       "  'PE Ratio (TTM)': 20.28,\n",
       "  'Previous Close': 171.61,\n",
       "  'Quote Price': 172.88999938964844,\n",
       "  'Volume': 2561604.0},\n",
       " 'MRK': {'1y Target Est': 95.58,\n",
       "  '52 Week Range': '65.25 - 92.64',\n",
       "  'Ask': '80.40 x 800',\n",
       "  'Avg. Volume': 8316749.0,\n",
       "  'Beta (5Y Monthly)': 0.43,\n",
       "  'Bid': '80.11 x 1100',\n",
       "  \"Day's Range\": '79.73 - 80.81',\n",
       "  'EPS (TTM)': 4.53,\n",
       "  'Earnings Date': 'Feb 04, 2021',\n",
       "  'Ex-Dividend Date': 'Dec 14, 2020',\n",
       "  'Forward Dividend & Yield': '2.60 (3.23%)',\n",
       "  'Market Cap': '203.541B',\n",
       "  'Open': 80.47,\n",
       "  'PE Ratio (TTM)': 17.77,\n",
       "  'Previous Close': 80.39,\n",
       "  'Quote Price': 80.44999694824219,\n",
       "  'Volume': 7670209.0},\n",
       " 'MSFT': {'1y Target Est': 239.37,\n",
       "  '52 Week Range': '132.52 - 232.86',\n",
       "  'Ask': '210.85 x 900',\n",
       "  'Avg. Volume': 32031395.0,\n",
       "  'Beta (5Y Monthly)': 0.87,\n",
       "  'Bid': '210.45 x 1100',\n",
       "  \"Day's Range\": '210.05 - 213.29',\n",
       "  'EPS (TTM)': 6.2,\n",
       "  'Earnings Date': 'Jan 27, 2021 - Feb 01, 2021',\n",
       "  'Ex-Dividend Date': 'Nov 18, 2020',\n",
       "  'Forward Dividend & Yield': '2.24 (1.06%)',\n",
       "  'Market Cap': '1.591T',\n",
       "  'Open': 212.2,\n",
       "  'PE Ratio (TTM)': 33.94,\n",
       "  'Previous Close': 212.42,\n",
       "  'Quote Price': 210.38999938964844,\n",
       "  'Volume': 22843119.0},\n",
       " 'NKE': {'1y Target Est': 145.26,\n",
       "  '52 Week Range': '60.00 - 136.35',\n",
       "  'Ask': '132.85 x 1000',\n",
       "  'Avg. Volume': 6446941.0,\n",
       "  'Beta (5Y Monthly)': 0.82,\n",
       "  'Bid': '133.31 x 900',\n",
       "  \"Day's Range\": '131.91 - 133.53',\n",
       "  'EPS (TTM)': 1.69,\n",
       "  'Earnings Date': 'Dec 18, 2020',\n",
       "  'Ex-Dividend Date': 'Aug 28, 2020',\n",
       "  'Forward Dividend & Yield': '1.10 (0.83%)',\n",
       "  'Market Cap': '208.756B',\n",
       "  'Open': 133.3,\n",
       "  'PE Ratio (TTM)': 78.73,\n",
       "  'Previous Close': 131.91,\n",
       "  'Quote Price': 132.97999572753906,\n",
       "  'Volume': 4125902.0},\n",
       " 'PG': {'1y Target Est': 150.31,\n",
       "  '52 Week Range': '94.34 - 146.92',\n",
       "  'Ask': '139.98 x 800',\n",
       "  'Avg. Volume': 6026190.0,\n",
       "  'Beta (5Y Monthly)': 0.4,\n",
       "  'Bid': '139.61 x 1100',\n",
       "  \"Day's Range\": '138.63 - 140.35',\n",
       "  'EPS (TTM)': 5.23,\n",
       "  'Earnings Date': 'Jan 21, 2021 - Jan 25, 2021',\n",
       "  'Ex-Dividend Date': 'Oct 22, 2020',\n",
       "  'Forward Dividend & Yield': '3.16 (2.27%)',\n",
       "  'Market Cap': '345.41B',\n",
       "  'Open': 139.53,\n",
       "  'PE Ratio (TTM)': 26.62,\n",
       "  'Previous Close': 139.53,\n",
       "  'Quote Price': 139.3000030517578,\n",
       "  'Volume': 4337525.0},\n",
       " 'TRV': {'1y Target Est': 127.63,\n",
       "  '52 Week Range': '76.99 - 141.87',\n",
       "  'Ask': '134.29 x 900',\n",
       "  'Avg. Volume': 1516881.0,\n",
       "  'Beta (5Y Monthly)': 0.77,\n",
       "  'Bid': '134.29 x 1000',\n",
       "  \"Day's Range\": '132.68 - 134.80',\n",
       "  'EPS (TTM)': 8.77,\n",
       "  'Earnings Date': 'Jan 21, 2021 - Jan 25, 2021',\n",
       "  'Ex-Dividend Date': 'Dec 09, 2020',\n",
       "  'Forward Dividend & Yield': '3.40 (2.53%)',\n",
       "  'Market Cap': '34.083B',\n",
       "  'Open': 132.95,\n",
       "  'PE Ratio (TTM)': 15.33,\n",
       "  'Previous Close': 133.87,\n",
       "  'Quote Price': 134.5500030517578,\n",
       "  'Volume': 1284424.0},\n",
       " 'UNH': {'1y Target Est': 370.38,\n",
       "  '52 Week Range': '187.72 - 367.95',\n",
       "  'Ask': '335.49 x 800',\n",
       "  'Avg. Volume': 3008987.0,\n",
       "  'Beta (5Y Monthly)': 0.72,\n",
       "  'Bid': '332.75 x 800',\n",
       "  \"Day's Range\": '331.71 - 337.66',\n",
       "  'EPS (TTM)': 17.41,\n",
       "  'Earnings Date': 'Jan 13, 2021 - Jan 18, 2021',\n",
       "  'Ex-Dividend Date': 'Dec 04, 2020',\n",
       "  'Forward Dividend & Yield': '5.00 (1.49%)',\n",
       "  'Market Cap': '317.57B',\n",
       "  'Open': 335.0,\n",
       "  'PE Ratio (TTM)': 19.23,\n",
       "  'Previous Close': 337.0,\n",
       "  'Quote Price': 334.70001220703125,\n",
       "  'Volume': 3527580.0},\n",
       " 'V': {'1y Target Est': 225.0,\n",
       "  '52 Week Range': '133.93 - 217.65',\n",
       "  'Ask': '203.99 x 900',\n",
       "  'Avg. Volume': 8080726.0,\n",
       "  'Beta (5Y Monthly)': 0.92,\n",
       "  'Bid': '203.51 x 800',\n",
       "  \"Day's Range\": '203.80 - 208.11',\n",
       "  'EPS (TTM)': 4.89,\n",
       "  'Earnings Date': 'Jan 28, 2021 - Feb 01, 2021',\n",
       "  'Ex-Dividend Date': 'Nov 12, 2020',\n",
       "  'Forward Dividend & Yield': '1.28 (0.63%)',\n",
       "  'Market Cap': '446.823B',\n",
       "  'Open': 207.13,\n",
       "  'PE Ratio (TTM)': 41.71,\n",
       "  'Previous Close': 207.57,\n",
       "  'Quote Price': 203.8800048828125,\n",
       "  'Volume': 8599717.0},\n",
       " 'VZ': {'1y Target Est': 62.13,\n",
       "  '52 Week Range': '48.84 - 62.22',\n",
       "  'Ask': '60.13 x 1300',\n",
       "  'Avg. Volume': 14972464.0,\n",
       "  'Beta (5Y Monthly)': 0.39,\n",
       "  'Bid': '60.02 x 3200',\n",
       "  \"Day's Range\": '59.94 - 60.33',\n",
       "  'EPS (TTM)': 4.42,\n",
       "  'Earnings Date': 'Jan 26, 2021',\n",
       "  'Ex-Dividend Date': 'Oct 08, 2020',\n",
       "  'Forward Dividend & Yield': '2.51 (4.18%)',\n",
       "  'Market Cap': '248.451B',\n",
       "  'Open': 60.21,\n",
       "  'PE Ratio (TTM)': 13.58,\n",
       "  'Previous Close': 60.21,\n",
       "  'Quote Price': 60.040000915527344,\n",
       "  'Volume': 13002237.0},\n",
       " 'WBA': {'1y Target Est': 39.83,\n",
       "  '52 Week Range': '33.36 - 61.05',\n",
       "  'Ask': '37.50 x 1000',\n",
       "  'Avg. Volume': 7827204.0,\n",
       "  'Beta (5Y Monthly)': 0.45,\n",
       "  'Bid': '37.45 x 1200',\n",
       "  \"Day's Range\": '37.13 - 38.08',\n",
       "  'EPS (TTM)': 0.52,\n",
       "  'Earnings Date': 'Jan 06, 2021 - Jan 11, 2021',\n",
       "  'Ex-Dividend Date': 'Nov 18, 2020',\n",
       "  'Forward Dividend & Yield': '1.87 (4.98%)',\n",
       "  'Market Cap': '32.521B',\n",
       "  'Open': 37.41,\n",
       "  'PE Ratio (TTM)': 72.31,\n",
       "  'Previous Close': 37.85,\n",
       "  'Quote Price': 37.529998779296875,\n",
       "  'Volume': 9022607.0},\n",
       " 'WMT': {'1y Target Est': 161.44,\n",
       "  '52 Week Range': '102.00 - 153.40',\n",
       "  'Ask': '150.24 x 900',\n",
       "  'Avg. Volume': 9371101.0,\n",
       "  'Beta (5Y Monthly)': 0.4,\n",
       "  'Bid': '150.31 x 1300',\n",
       "  \"Day's Range\": '149.81 - 152.76',\n",
       "  'EPS (TTM)': 6.27,\n",
       "  'Earnings Date': 'Feb 18, 2021',\n",
       "  'Ex-Dividend Date': 'Dec 10, 2020',\n",
       "  'Forward Dividend & Yield': '2.16 (1.44%)',\n",
       "  'Market Cap': '425.743B',\n",
       "  'Open': 151.17,\n",
       "  'PE Ratio (TTM)': 23.97,\n",
       "  'Previous Close': 152.12,\n",
       "  'Quote Price': 150.24000549316406,\n",
       "  'Volume': 7109461.0}}"
      ]
     },
     "execution_count": 3,
     "metadata": {},
     "output_type": "execute_result"
    }
   ],
   "source": [
    "ticker_data = {}\n",
    "for ticker in si.tickers_dow():\n",
    "  ticker_data[ticker] = si.get_quote_table(ticker)\n",
    "ticker_data"
   ]
  },
  {
   "cell_type": "code",
   "execution_count": 6,
   "metadata": {
    "colab": {
     "base_uri": "https://localhost:8080/",
     "height": 535
    },
    "id": "JHldIHiTWAhe",
    "outputId": "b22b82d2-c954-4ef8-a129-31c1542c46ef"
   },
   "outputs": [
    {
     "name": "stdout",
     "output_type": "stream",
     "text": [
      "AAPL Market Cap: 1.995T\n",
      "AMGN Market Cap: 129.923B\n",
      "AXP Market Cap: 90.65B\n",
      "BA Market Cap: 112.691B\n",
      "CAT Market Cap: 93.565B\n",
      "CRM Market Cap: 234.816B\n",
      "CSCO Market Cap: 173.119B\n",
      "CVX Market Cap: 165.147B\n",
      "DIS Market Cap: 254.922B\n",
      "DOW Market Cap: 40.596B\n",
      "GS Market Cap: 76.848B\n",
      "HD Market Cap: 303.733B\n",
      "HON Market Cap: 141.741B\n",
      "IBM Market Cap: 104.2B\n",
      "INTC Market Cap: 186.008B\n",
      "JNJ Market Cap: 385.299B\n",
      "JPM Market Cap: 349.232B\n",
      "KO Market Cap: 226.346B\n",
      "MCD Market Cap: 159.521B\n",
      "MMM Market Cap: 99.727B\n",
      "MRK Market Cap: 203.541B\n",
      "MSFT Market Cap: 1.591T\n",
      "NKE Market Cap: 208.756B\n",
      "PG Market Cap: 345.41B\n",
      "TRV Market Cap: 34.083B\n",
      "UNH Market Cap: 317.57B\n",
      "V Market Cap: 446.823B\n",
      "VZ Market Cap: 248.451B\n",
      "WBA Market Cap: 32.521B\n",
      "WMT Market Cap: 425.743B\n"
     ]
    }
   ],
   "source": [
    "for ticker, ticker_info in ticker_data.items():\n",
    "  print(f'{ticker} Market Cap: {ticker_info[\"Market Cap\"]}')"
   ]
  },
  {
   "cell_type": "markdown",
   "metadata": {},
   "source": [
    "# Run this stuff"
   ]
  },
  {
   "cell_type": "code",
   "execution_count": 18,
   "metadata": {
    "colab": {
     "base_uri": "https://localhost:8080/",
     "height": 362
    },
    "id": "4AaD2HXGLssr",
    "outputId": "c9da7119-50ea-4657-8512-63db0400a289"
   },
   "outputs": [
    {
     "data": {
      "text/html": [
       "<div>\n",
       "<style scoped>\n",
       "    .dataframe tbody tr th:only-of-type {\n",
       "        vertical-align: middle;\n",
       "    }\n",
       "\n",
       "    .dataframe tbody tr th {\n",
       "        vertical-align: top;\n",
       "    }\n",
       "\n",
       "    .dataframe thead th {\n",
       "        text-align: right;\n",
       "    }\n",
       "</style>\n",
       "<table border=\"1\" class=\"dataframe\">\n",
       "  <thead>\n",
       "    <tr style=\"text-align: right;\">\n",
       "      <th></th>\n",
       "      <th>AMZN</th>\n",
       "      <th>GOOGL</th>\n",
       "      <th>TSLA</th>\n",
       "      <th>NKE</th>\n",
       "      <th>USDOLLAR</th>\n",
       "    </tr>\n",
       "    <tr>\n",
       "      <th>Date</th>\n",
       "      <th></th>\n",
       "      <th></th>\n",
       "      <th></th>\n",
       "      <th></th>\n",
       "      <th></th>\n",
       "    </tr>\n",
       "  </thead>\n",
       "  <tbody>\n",
       "    <tr>\n",
       "      <th>2018-03-21</th>\n",
       "      <td>-0.002931</td>\n",
       "      <td>-0.001643</td>\n",
       "      <td>0.019256</td>\n",
       "      <td>-0.006737</td>\n",
       "      <td>0.000068</td>\n",
       "    </tr>\n",
       "    <tr>\n",
       "      <th>2018-03-22</th>\n",
       "      <td>-0.023871</td>\n",
       "      <td>-0.037340</td>\n",
       "      <td>-0.023473</td>\n",
       "      <td>-0.029088</td>\n",
       "      <td>0.000068</td>\n",
       "    </tr>\n",
       "    <tr>\n",
       "      <th>2018-03-23</th>\n",
       "      <td>-0.031436</td>\n",
       "      <td>-0.025258</td>\n",
       "      <td>-0.024458</td>\n",
       "      <td>0.003260</td>\n",
       "      <td>0.000068</td>\n",
       "    </tr>\n",
       "    <tr>\n",
       "      <th>2018-03-26</th>\n",
       "      <td>0.040319</td>\n",
       "      <td>0.026828</td>\n",
       "      <td>0.008755</td>\n",
       "      <td>0.019650</td>\n",
       "      <td>0.000070</td>\n",
       "    </tr>\n",
       "    <tr>\n",
       "      <th>2018-03-27</th>\n",
       "      <td>-0.037799</td>\n",
       "      <td>-0.044731</td>\n",
       "      <td>-0.082188</td>\n",
       "      <td>0.004097</td>\n",
       "      <td>0.000070</td>\n",
       "    </tr>\n",
       "  </tbody>\n",
       "</table>\n",
       "</div>"
      ],
      "text/plain": [
       "                AMZN     GOOGL      TSLA       NKE  USDOLLAR\n",
       "Date                                                        \n",
       "2018-03-21 -0.002931 -0.001643  0.019256 -0.006737  0.000068\n",
       "2018-03-22 -0.023871 -0.037340 -0.023473 -0.029088  0.000068\n",
       "2018-03-23 -0.031436 -0.025258 -0.024458  0.003260  0.000068\n",
       "2018-03-26  0.040319  0.026828  0.008755  0.019650  0.000070\n",
       "2018-03-27 -0.037799 -0.044731 -0.082188  0.004097  0.000070"
      ]
     },
     "execution_count": 18,
     "metadata": {},
     "output_type": "execute_result"
    }
   ],
   "source": [
    "tickers = ['AMZN', 'GOOGL', 'TSLA', 'NKE']\n",
    "start_date='2012-01-01'\n",
    "end_date='2020-11-20'\n",
    "returns = pd.DataFrame(dict([(ticker, quandl.get('WIKI/'+ticker, \n",
    "                                    start_date=start_date, \n",
    "                                    end_date=end_date\n",
    "                                                )['Adj. Close'].pct_change())\n",
    "                for ticker in tickers]))\n",
    "returns[[\"USDOLLAR\"]]=quandl.get('FRED/DTB3', start_date=start_date, end_date=end_date)/(250*100)\n",
    "returns = returns.fillna(method='ffill').iloc[1:]\n",
    "\n",
    "returns.tail()"
   ]
  },
  {
   "cell_type": "markdown",
   "metadata": {
    "id": "-QnJMOUeLssu"
   },
   "source": [
    "We compute rolling estimates of the first and second moments of the returns using a window of 250 days. We shift them by one unit (so at every day we present the optimizer with only past data)."
   ]
  },
  {
   "cell_type": "code",
   "execution_count": null,
   "metadata": {
    "id": "Iw-7Iq_3Lssv"
   },
   "outputs": [],
   "source": [
    "r_hat = returns.rolling(window=250, min_periods=250).mean().shift(1).dropna()\n",
    "Sigma_hat = returns.rolling(window=250, min_periods=250, closed='neither').cov().dropna()\n",
    "\n",
    "r_hat.tail()"
   ]
  },
  {
   "cell_type": "markdown",
   "metadata": {
    "id": "l8Umb88ZNWVI"
   },
   "source": [
    "# Transaction Costs and Holding Costs"
   ]
  },
  {
   "cell_type": "markdown",
   "metadata": {
    "id": "IYrF8XSALssx"
   },
   "source": [
    "Here we define the transaction cost and holding cost model (sections 2.3 and 2.4 [of the paper](https://web.stanford.edu/~boyd/papers/cvx_portfolio.html)). The data can be expressed \n",
    "as \n",
    "- a scalar (like we're doing here), the same value for all assets and all time periods;\n",
    "- a Pandas Series indexed by the asset names, for asset-specific values; \n",
    "- a Pandas DataFrame indexed by timestamps with asset names as columns, for values that vary by asset and in time."
   ]
  },
  {
   "cell_type": "code",
   "execution_count": null,
   "metadata": {
    "id": "VJDuWaRzLssy"
   },
   "outputs": [],
   "source": [
    "tcost_model=cp.TcostModel(half_spread=10E-4) # need: sigma, volumes (source from api)\n",
    "hcost_model=cp.HcostModel(borrow_costs=1E-4) # need: dividends (source from api)"
   ]
  },
  {
   "cell_type": "markdown",
   "metadata": {
    "id": "mBvEGieuNjbB"
   },
   "source": [
    "# Trading and Holding Constraints"
   ]
  },
  {
   "cell_type": "code",
   "execution_count": null,
   "metadata": {
    "id": "gTJGtsW6NoOb"
   },
   "outputs": [],
   "source": [
    "long_only = cp.LongOnly()"
   ]
  },
  {
   "cell_type": "markdown",
   "metadata": {
    "id": "Cto4Qqb3Nb1V"
   },
   "source": [
    "# Risk Model"
   ]
  },
  {
   "cell_type": "code",
   "execution_count": null,
   "metadata": {
    "id": "YFLg7cnHLss3"
   },
   "outputs": [],
   "source": [
    "risk_model = cp.FullSigma(Sigma_hat.reset_index(level=1, drop=True))"
   ]
  },
  {
   "cell_type": "markdown",
   "metadata": {
    "id": "09_Bj803Nuf_"
   },
   "source": [
    "# Full Optimization Policy"
   ]
  },
  {
   "cell_type": "markdown",
   "metadata": {
    "id": "NY5d5BToLss1"
   },
   "source": [
    "We define the single period optimization policy (section 4 [of the paper](https://web.stanford.edu/~boyd/papers/cvx_portfolio.html)). "
   ]
  },
  {
   "cell_type": "code",
   "execution_count": null,
   "metadata": {
    "id": "8CtZkNT-Nwf9"
   },
   "outputs": [],
   "source": [
    "gamma_risk, gamma_trade, gamma_hold = 5., 1., 1.\n",
    "\n",
    "spo_policy = cp.SinglePeriodOpt(return_forecast=r_hat, \n",
    "                                costs=[gamma_risk*risk_model, gamma_trade*tcost_model, gamma_hold*hcost_model],\n",
    "                                constraints=[leverage_limit])"
   ]
  },
  {
   "cell_type": "markdown",
   "metadata": {
    "id": "WAmVgVy0Lss9"
   },
   "source": [
    "We run a backtest, which returns a result object. By calling its summary method we get some basic statistics."
   ]
  },
  {
   "cell_type": "code",
   "execution_count": null,
   "metadata": {
    "id": "JDiTSb57Lss-"
   },
   "outputs": [],
   "source": [
    "market_sim=cp.MarketSimulator(returns, [tcost_model, hcost_model], cash_key='USDOLLAR') \n",
    "init_portfolio = pd.Series(index=returns.columns, data=250000.)\n",
    "init_portfolio.USDOLLAR = 0\n",
    "results = market_sim.run_multiple_backtest(init_portfolio,\n",
    "                               start_time='2013-01-03',  end_time='2016-12-31',  \n",
    "                               policies=[spo_policy, cp.Hold()], parallel=False)\n",
    "results[0].summary()"
   ]
  },
  {
   "cell_type": "markdown",
   "metadata": {
    "id": "POoXEKLtLstD"
   },
   "source": [
    "The total value of the portfolio in time."
   ]
  },
  {
   "cell_type": "code",
   "execution_count": null,
   "metadata": {
    "id": "VvvSDv9OLstE"
   },
   "outputs": [],
   "source": [
    "results[0].v.plot(figsize=(12,5))\n",
    "results[1].v.plot(figsize=(12,5))"
   ]
  },
  {
   "cell_type": "markdown",
   "metadata": {
    "id": "8PLQ7qY4LstG"
   },
   "source": [
    "The weights vector of the portfolio in time."
   ]
  },
  {
   "cell_type": "code",
   "execution_count": null,
   "metadata": {
    "id": "yaGh3X1jLstH"
   },
   "outputs": [],
   "source": [
    "results[0].w.plot(figsize=(12,6))"
   ]
  }
 ],
 "metadata": {
  "anaconda-cloud": {},
  "colab": {
   "collapsed_sections": [],
   "name": "HelloWorld.ipynb",
   "provenance": []
  },
  "kernelspec": {
   "display_name": "Python 3",
   "language": "python",
   "name": "python3"
  },
  "language_info": {
   "codemirror_mode": {
    "name": "ipython",
    "version": 3
   },
   "file_extension": ".py",
   "mimetype": "text/x-python",
   "name": "python",
   "nbconvert_exporter": "python",
   "pygments_lexer": "ipython3",
   "version": "3.6.10"
  }
 },
 "nbformat": 4,
 "nbformat_minor": 1
}
