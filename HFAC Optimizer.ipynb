{
 "cells": [
  {
   "cell_type": "code",
   "execution_count": 1,
   "metadata": {
    "id": "p-VfxokgLssa"
   },
   "outputs": [],
   "source": [
    "import os\n",
    "import sys\n",
    "sys.path.insert(0, os.path.abspath('..'))"
   ]
  },
  {
   "cell_type": "code",
   "execution_count": 2,
   "metadata": {
    "colab": {
     "base_uri": "https://localhost:8080/",
     "height": 241
    },
    "id": "dx815H1HMUTb",
    "outputId": "71fe3fdb-f7e6-4faf-d30e-6a88bedd4fff"
   },
   "outputs": [
    {
     "name": "stdout",
     "output_type": "stream",
     "text": [
      "Collecting quandl\n",
      "  Downloading Quandl-3.5.3-py2.py3-none-any.whl (25 kB)\n",
      "Collecting inflection>=0.3.1\n",
      "  Downloading inflection-0.5.1-py2.py3-none-any.whl (9.5 kB)\n",
      "Requirement already satisfied: python-dateutil in /anaconda2/envs/py36/lib/python3.6/site-packages (from quandl) (2.8.1)\n",
      "Collecting requests>=2.7.0\n",
      "  Downloading requests-2.25.0-py2.py3-none-any.whl (61 kB)\n",
      "\u001b[K     |████████████████████████████████| 61 kB 1.8 MB/s eta 0:00:01\n",
      "\u001b[?25hCollecting pandas>=0.14\n",
      "  Downloading pandas-1.1.4-cp36-cp36m-macosx_10_9_x86_64.whl (10.2 MB)\n",
      "\u001b[K     |████████████████████████████████| 10.2 MB 7.1 MB/s eta 0:00:01\n",
      "\u001b[?25hRequirement already satisfied: numpy>=1.8 in /anaconda2/envs/py36/lib/python3.6/site-packages (from quandl) (1.18.1)\n",
      "Requirement already satisfied: six in /anaconda2/envs/py36/lib/python3.6/site-packages (from quandl) (1.14.0)\n",
      "Collecting more-itertools\n",
      "  Downloading more_itertools-8.6.0-py3-none-any.whl (45 kB)\n",
      "\u001b[K     |████████████████████████████████| 45 kB 4.5 MB/s eta 0:00:011\n",
      "\u001b[?25hCollecting urllib3<1.27,>=1.21.1\n",
      "  Downloading urllib3-1.26.2-py2.py3-none-any.whl (136 kB)\n",
      "\u001b[K     |████████████████████████████████| 136 kB 3.5 MB/s eta 0:00:01\n",
      "\u001b[?25hRequirement already satisfied: certifi>=2017.4.17 in /anaconda2/envs/py36/lib/python3.6/site-packages (from requests>=2.7.0->quandl) (2020.4.5.1)\n",
      "Collecting chardet<4,>=3.0.2\n",
      "  Using cached chardet-3.0.4-py2.py3-none-any.whl (133 kB)\n",
      "Collecting idna<3,>=2.5\n",
      "  Downloading idna-2.10-py2.py3-none-any.whl (58 kB)\n",
      "\u001b[K     |████████████████████████████████| 58 kB 4.9 MB/s eta 0:00:011\n",
      "\u001b[?25hCollecting pytz>=2017.2\n",
      "  Downloading pytz-2020.4-py2.py3-none-any.whl (509 kB)\n",
      "\u001b[K     |████████████████████████████████| 509 kB 7.7 MB/s eta 0:00:01\n",
      "\u001b[?25hInstalling collected packages: inflection, urllib3, chardet, idna, requests, pytz, pandas, more-itertools, quandl\n",
      "Successfully installed chardet-3.0.4 idna-2.10 inflection-0.5.1 more-itertools-8.6.0 pandas-1.1.4 pytz-2020.4 quandl-3.5.3 requests-2.25.0 urllib3-1.26.2\n",
      "Note: you may need to restart the kernel to use updated packages.\n"
     ]
    }
   ],
   "source": [
    "pip install quandl"
   ]
  },
  {
   "cell_type": "code",
   "execution_count": 3,
   "metadata": {
    "colab": {
     "base_uri": "https://localhost:8080/",
     "height": 328
    },
    "id": "l6RQsi5DRLyw",
    "outputId": "b2c2a8cd-ac01-480a-dec3-09a58a72f44d"
   },
   "outputs": [
    {
     "name": "stdout",
     "output_type": "stream",
     "text": [
      "Collecting cvxportfolio\n",
      "  Downloading cvxportfolio-0.0.12-py3-none-any.whl (230 kB)\n",
      "\u001b[K     |████████████████████████████████| 230 kB 1.7 MB/s eta 0:00:01\n",
      "\u001b[?25hRequirement already satisfied: matplotlib in /anaconda2/envs/py36/lib/python3.6/site-packages (from cvxportfolio) (3.1.3)\n",
      "Requirement already satisfied: numpy in /anaconda2/envs/py36/lib/python3.6/site-packages (from cvxportfolio) (1.18.1)\n",
      "Collecting cvxpy>=1.0.6\n",
      "  Downloading cvxpy-1.1.7-cp36-cp36m-macosx_10_9_x86_64.whl (835 kB)\n",
      "\u001b[K     |████████████████████████████████| 835 kB 1.5 MB/s eta 0:00:01\n",
      "\u001b[?25hRequirement already satisfied: pandas in /anaconda2/envs/py36/lib/python3.6/site-packages (from cvxportfolio) (1.1.4)\n",
      "Requirement already satisfied: kiwisolver>=1.0.1 in /anaconda2/envs/py36/lib/python3.6/site-packages (from matplotlib->cvxportfolio) (1.2.0)\n",
      "Requirement already satisfied: python-dateutil>=2.1 in /anaconda2/envs/py36/lib/python3.6/site-packages (from matplotlib->cvxportfolio) (2.8.1)\n",
      "Requirement already satisfied: cycler>=0.10 in /anaconda2/envs/py36/lib/python3.6/site-packages (from matplotlib->cvxportfolio) (0.10.0)\n",
      "Requirement already satisfied: pyparsing!=2.0.4,!=2.1.2,!=2.1.6,>=2.0.1 in /anaconda2/envs/py36/lib/python3.6/site-packages (from matplotlib->cvxportfolio) (2.4.7)\n",
      "Collecting scs>=1.1.6\n",
      "  Downloading scs-2.1.2.tar.gz (3.5 MB)\n",
      "\u001b[K     |████████████████████████████████| 3.5 MB 770 kB/s eta 0:00:01\n",
      "\u001b[?25hCollecting osqp>=0.4.1\n",
      "  Downloading osqp-0.6.1-cp36-cp36m-macosx_10_9_x86_64.whl (158 kB)\n",
      "\u001b[K     |████████████████████████████████| 158 kB 3.1 MB/s eta 0:00:01\n",
      "\u001b[?25hCollecting ecos>=2\n",
      "  Downloading ecos-2.0.7.post1-cp36-cp36m-macosx_10_13_x86_64.whl (71 kB)\n",
      "\u001b[K     |████████████████████████████████| 71 kB 34 kB/s  eta 0:00:01\n",
      "\u001b[?25hRequirement already satisfied: scipy>=1.1.0 in /anaconda2/envs/py36/lib/python3.6/site-packages (from cvxpy>=1.0.6->cvxportfolio) (1.4.1)\n",
      "Requirement already satisfied: pytz>=2017.2 in /anaconda2/envs/py36/lib/python3.6/site-packages (from pandas->cvxportfolio) (2020.4)\n",
      "Requirement already satisfied: six>=1.5 in /anaconda2/envs/py36/lib/python3.6/site-packages (from python-dateutil>=2.1->matplotlib->cvxportfolio) (1.14.0)\n",
      "Collecting future\n",
      "  Downloading future-0.18.2.tar.gz (829 kB)\n",
      "\u001b[K     |████████████████████████████████| 829 kB 3.3 MB/s eta 0:00:01\n",
      "\u001b[?25hBuilding wheels for collected packages: scs, future\n",
      "  Building wheel for scs (setup.py) ... \u001b[?25ldone\n",
      "\u001b[?25h  Created wheel for scs: filename=scs-2.1.2-cp36-cp36m-macosx_10_14_x86_64.whl size=119124 sha256=7828a93b03b60cf6f579884b87c4c9fa5af3d7a50f142e3b7f1b65db0f82e314\n",
      "  Stored in directory: /Users/ashleyzhuang/Library/Caches/pip/wheels/50/02/c2/0708708e215645196adc1ea78c7dc776b173a37a86deb6a7e7\n",
      "  Building wheel for future (setup.py) ... \u001b[?25ldone\n",
      "\u001b[?25h  Created wheel for future: filename=future-0.18.2-py3-none-any.whl size=491058 sha256=2f61d3488d8fc683a79a7fb180624671c3e26998304953f58cbbda16af1d428a\n",
      "  Stored in directory: /Users/ashleyzhuang/Library/Caches/pip/wheels/6e/9c/ed/4499c9865ac1002697793e0ae05ba6be33553d098f3347fb94\n",
      "Successfully built scs future\n",
      "Installing collected packages: scs, future, osqp, ecos, cvxpy, cvxportfolio\n",
      "Successfully installed cvxportfolio-0.0.12 cvxpy-1.1.7 ecos-2.0.7.post1 future-0.18.2 osqp-0.6.1 scs-2.1.2\n",
      "Note: you may need to restart the kernel to use updated packages.\n"
     ]
    }
   ],
   "source": [
    "pip install cvxportfolio"
   ]
  },
  {
   "cell_type": "code",
   "execution_count": 4,
   "metadata": {
    "colab": {
     "base_uri": "https://localhost:8080/",
     "height": 34
    },
    "id": "azqxeZmYU9Kz",
    "outputId": "9eeeb43a-be24-45ab-8fbd-1c1e18293a3f"
   },
   "outputs": [
    {
     "name": "stdout",
     "output_type": "stream",
     "text": [
      "Collecting yahoo_fin\n",
      "  Downloading yahoo_fin-0.8.6-py3-none-any.whl (8.7 kB)\n",
      "Installing collected packages: yahoo-fin\n",
      "Successfully installed yahoo-fin-0.8.6\n",
      "Note: you may need to restart the kernel to use updated packages.\n"
     ]
    }
   ],
   "source": [
    "pip install yahoo_fin"
   ]
  },
  {
   "cell_type": "code",
   "execution_count": 5,
   "metadata": {
    "colab": {
     "base_uri": "https://localhost:8080/",
     "height": 362
    },
    "id": "KBqIZnbEVMOM",
    "outputId": "738debc9-abc4-4a36-af71-6e094af128c0"
   },
   "outputs": [
    {
     "name": "stdout",
     "output_type": "stream",
     "text": [
      "Collecting requests_html\n",
      "  Downloading requests_html-0.10.0-py3-none-any.whl (13 kB)\n",
      "Collecting pyppeteer>=0.0.14\n",
      "  Downloading pyppeteer-0.2.2-py3-none-any.whl (145 kB)\n",
      "\u001b[K     |████████████████████████████████| 145 kB 2.4 MB/s eta 0:00:01\n",
      "\u001b[?25hCollecting parse\n",
      "  Downloading parse-1.18.0.tar.gz (30 kB)\n",
      "Requirement already satisfied: requests in /anaconda2/envs/py36/lib/python3.6/site-packages (from requests_html) (2.25.0)\n",
      "Collecting bs4\n",
      "  Downloading bs4-0.0.1.tar.gz (1.1 kB)\n",
      "Collecting pyquery\n",
      "  Downloading pyquery-1.4.3-py3-none-any.whl (22 kB)\n",
      "Collecting w3lib\n",
      "  Downloading w3lib-1.22.0-py2.py3-none-any.whl (20 kB)\n",
      "Collecting fake-useragent\n",
      "  Downloading fake-useragent-0.1.11.tar.gz (13 kB)\n",
      "Collecting websockets<9.0,>=8.1\n",
      "  Downloading websockets-8.1-cp36-cp36m-macosx_10_6_intel.whl (66 kB)\n",
      "\u001b[K     |████████████████████████████████| 66 kB 8.5 MB/s  eta 0:00:01\n",
      "\u001b[?25hRequirement already satisfied: tqdm<5.0.0,>=4.42.1 in /anaconda2/envs/py36/lib/python3.6/site-packages (from pyppeteer>=0.0.14->requests_html) (4.46.0)\n",
      "Collecting appdirs<2.0.0,>=1.4.3\n",
      "  Downloading appdirs-1.4.4-py2.py3-none-any.whl (9.6 kB)\n",
      "Collecting pyee<8.0.0,>=7.0.1\n",
      "  Downloading pyee-7.0.4-py2.py3-none-any.whl (12 kB)\n",
      "Requirement already satisfied: urllib3<2.0.0,>=1.25.8 in /anaconda2/envs/py36/lib/python3.6/site-packages (from pyppeteer>=0.0.14->requests_html) (1.26.2)\n",
      "Requirement already satisfied: chardet<4,>=3.0.2 in /anaconda2/envs/py36/lib/python3.6/site-packages (from requests->requests_html) (3.0.4)\n",
      "Requirement already satisfied: certifi>=2017.4.17 in /anaconda2/envs/py36/lib/python3.6/site-packages (from requests->requests_html) (2020.4.5.1)\n",
      "Requirement already satisfied: idna<3,>=2.5 in /anaconda2/envs/py36/lib/python3.6/site-packages (from requests->requests_html) (2.10)\n",
      "Collecting beautifulsoup4\n",
      "  Downloading beautifulsoup4-4.9.3-py3-none-any.whl (115 kB)\n",
      "\u001b[K     |████████████████████████████████| 115 kB 9.2 MB/s eta 0:00:01\n",
      "\u001b[?25hCollecting cssselect>0.7.9\n",
      "  Downloading cssselect-1.1.0-py2.py3-none-any.whl (16 kB)\n",
      "Collecting lxml>=2.1\n",
      "  Downloading lxml-4.6.1-cp36-cp36m-macosx_10_9_x86_64.whl (4.6 MB)\n",
      "\u001b[K     |████████████████████████████████| 4.6 MB 4.3 MB/s eta 0:00:01\n",
      "\u001b[?25hRequirement already satisfied: six>=1.4.1 in /anaconda2/envs/py36/lib/python3.6/site-packages (from w3lib->requests_html) (1.14.0)\n",
      "Collecting soupsieve>1.2; python_version >= \"3.0\"\n",
      "  Downloading soupsieve-2.0.1-py3-none-any.whl (32 kB)\n",
      "Building wheels for collected packages: parse, bs4, fake-useragent\n",
      "  Building wheel for parse (setup.py) ... \u001b[?25ldone\n",
      "\u001b[?25h  Created wheel for parse: filename=parse-1.18.0-py3-none-any.whl size=24133 sha256=24e0c563851ee542fc96dfeed84a476fc21a8d429febf8d5b74a6878070c002f\n",
      "  Stored in directory: /Users/ashleyzhuang/Library/Caches/pip/wheels/85/db/d9/2416d9d65785454955833a9272db1df200ee64f2269cf6e282\n",
      "  Building wheel for bs4 (setup.py) ... \u001b[?25ldone\n",
      "\u001b[?25h  Created wheel for bs4: filename=bs4-0.0.1-py3-none-any.whl size=1272 sha256=864f80aea6a1ebb0502760c9c0ce0d046c5c8493fee88c8cfe124891c0109886\n",
      "  Stored in directory: /Users/ashleyzhuang/Library/Caches/pip/wheels/19/f5/6d/a97dd4f22376d4472d5f4c76c7646876052ff3166b3cf71050\n",
      "  Building wheel for fake-useragent (setup.py) ... \u001b[?25ldone\n",
      "\u001b[?25h  Created wheel for fake-useragent: filename=fake_useragent-0.1.11-py3-none-any.whl size=13487 sha256=e7670bc045b04990b8d79e999fb992ef6c52f7e92f2ac8de5401f60a34c7878e\n",
      "  Stored in directory: /Users/ashleyzhuang/Library/Caches/pip/wheels/12/8a/a1/0ab79c1c2c58aa7647d0dea17f2af2358b65e1eecac8094b5e\n",
      "Successfully built parse bs4 fake-useragent\n",
      "Installing collected packages: websockets, appdirs, pyee, pyppeteer, parse, soupsieve, beautifulsoup4, bs4, cssselect, lxml, pyquery, w3lib, fake-useragent, requests-html\n",
      "Successfully installed appdirs-1.4.4 beautifulsoup4-4.9.3 bs4-0.0.1 cssselect-1.1.0 fake-useragent-0.1.11 lxml-4.6.1 parse-1.18.0 pyee-7.0.4 pyppeteer-0.2.2 pyquery-1.4.3 requests-html-0.10.0 soupsieve-2.0.1 w3lib-1.22.0 websockets-8.1\n",
      "Note: you may need to restart the kernel to use updated packages.\n"
     ]
    }
   ],
   "source": [
    "pip install requests_html"
   ]
  },
  {
   "cell_type": "code",
   "execution_count": 9,
   "metadata": {},
   "outputs": [
    {
     "name": "stdout",
     "output_type": "stream",
     "text": [
      "Collecting multiprocess\n",
      "  Downloading multiprocess-0.70.11.1-py36-none-any.whl (101 kB)\n",
      "\u001b[K     |████████████████████████████████| 101 kB 1.2 MB/s ta 0:00:01\n",
      "\u001b[?25hCollecting dill>=0.3.3\n",
      "  Downloading dill-0.3.3-py2.py3-none-any.whl (81 kB)\n",
      "\u001b[K     |████████████████████████████████| 81 kB 1.1 MB/s eta 0:00:011\n",
      "\u001b[?25hInstalling collected packages: dill, multiprocess\n",
      "Successfully installed dill-0.3.3 multiprocess-0.70.11.1\n",
      "Note: you may need to restart the kernel to use updated packages.\n"
     ]
    }
   ],
   "source": [
    "pip install multiprocess"
   ]
  },
  {
   "cell_type": "code",
   "execution_count": 10,
   "metadata": {
    "colab": {
     "base_uri": "https://localhost:8080/",
     "height": 328
    },
    "id": "mr9EpPe_Lssg",
    "outputId": "d3cb3814-f089-4209-ecca-59500733cead"
   },
   "outputs": [
    {
     "name": "stderr",
     "output_type": "stream",
     "text": [
      "/Users/ashleyzhuang/Desktop/quant-optimizer/cvxportfolio/policies.py:42: FutureWarning: The pandas.datetime class is deprecated and will be removed from pandas in a future version. Import from datetime instead.\n",
      "  def get_trades(self, portfolio, t=pd.datetime.today()):\n",
      "/Users/ashleyzhuang/Desktop/quant-optimizer/cvxportfolio/policies.py:60: FutureWarning: The pandas.datetime class is deprecated and will be removed from pandas in a future version. Import from datetime instead.\n",
      "  def get_trades(self, portfolio, t=pd.datetime.today()):\n",
      "/Users/ashleyzhuang/Desktop/quant-optimizer/cvxportfolio/policies.py:74: FutureWarning: The pandas.datetime class is deprecated and will be removed from pandas in a future version. Import from datetime instead.\n",
      "  def get_trades(self, portfolio, t=pd.datetime.today()):\n",
      "/Users/ashleyzhuang/Desktop/quant-optimizer/cvxportfolio/policies.py:107: FutureWarning: The pandas.datetime class is deprecated and will be removed from pandas in a future version. Import from datetime instead.\n",
      "  def get_trades(self, portfolio, t=pd.datetime.today()):\n",
      "/Users/ashleyzhuang/Desktop/quant-optimizer/cvxportfolio/policies.py:123: FutureWarning: The pandas.datetime class is deprecated and will be removed from pandas in a future version. Import from datetime instead.\n",
      "  def get_trades(self, portfolio, t=pd.datetime.today()):\n",
      "/Users/ashleyzhuang/Desktop/quant-optimizer/cvxportfolio/policies.py:145: FutureWarning: The pandas.datetime class is deprecated and will be removed from pandas in a future version. Import from datetime instead.\n",
      "  def get_trades(self, portfolio, t=pd.datetime.today()):\n",
      "/Users/ashleyzhuang/Desktop/quant-optimizer/cvxportfolio/policies.py:182: FutureWarning: The pandas.datetime class is deprecated and will be removed from pandas in a future version. Import from datetime instead.\n",
      "  def get_trades(self, portfolio, t=pd.datetime.today()):\n",
      "/Users/ashleyzhuang/Desktop/quant-optimizer/cvxportfolio/policies.py:196: FutureWarning: The pandas.datetime class is deprecated and will be removed from pandas in a future version. Import from datetime instead.\n",
      "  def get_trades(self, portfolio, t=pd.datetime.today()):\n",
      "/Users/ashleyzhuang/Desktop/quant-optimizer/cvxportfolio/policies.py:334: FutureWarning: The pandas.datetime class is deprecated and will be removed from pandas in a future version. Import from datetime instead.\n",
      "  def get_trades(self, portfolio, t=pd.datetime.today()):\n"
     ]
    }
   ],
   "source": [
    "%matplotlib inline\n",
    "import numpy as np\n",
    "import pandas as pd\n",
    "import quandl\n",
    "import yahoo_fin.stock_info as si\n",
    "\n",
    "import cvxportfolio as cp"
   ]
  },
  {
   "cell_type": "code",
   "execution_count": 11,
   "metadata": {
    "colab": {
     "base_uri": "https://localhost:8080/",
     "height": 34
    },
    "id": "OmscCYNnLssk",
    "outputId": "6ed18fc6-4435-4560-99ec-c723e4033a30"
   },
   "outputs": [
    {
     "data": {
      "text/plain": [
       "<module 'cvxportfolio' from '/Users/ashleyzhuang/Desktop/quant-optimizer/cvxportfolio/__init__.py'>"
      ]
     },
     "execution_count": 11,
     "metadata": {},
     "output_type": "execute_result"
    }
   ],
   "source": [
    "import importlib\n",
    "importlib.reload(cp)"
   ]
  },
  {
   "cell_type": "markdown",
   "metadata": {
    "id": "vbiI1VG3Lssr"
   },
   "source": [
    "Download the problem data from Quandl. We select four liquid stocks, and the risk-free rate."
   ]
  },
  {
   "cell_type": "markdown",
   "metadata": {
    "id": "6kbABHimNFaz"
   },
   "source": [
    "# Universe\n",
    "We define the universe of tradeable assets for HFAC. HFAC only trades micro-cap and small-cap equities (<$5 billion market cap)."
   ]
  },
  {
   "cell_type": "code",
   "execution_count": null,
   "metadata": {
    "id": "jzjTHB-9VX5r"
   },
   "outputs": [],
   "source": [
    "ticker_data = {}\n",
    "for ticker in si.tickers_dow():\n",
    "  ticker_data[ticker] = si.get_quote_table(ticker)\n",
    "ticker_data"
   ]
  },
  {
   "cell_type": "code",
   "execution_count": null,
   "metadata": {
    "colab": {
     "base_uri": "https://localhost:8080/",
     "height": 535
    },
    "id": "JHldIHiTWAhe",
    "outputId": "b22b82d2-c954-4ef8-a129-31c1542c46ef"
   },
   "outputs": [
    {
     "name": "stdout",
     "output_type": "stream",
     "text": [
      "AAPL Market Cap: 2.036T\n",
      "AMGN Market Cap: 138.06B\n",
      "AXP Market Cap: 84.469B\n",
      "BA Market Cap: 94.461B\n",
      "CAT Market Cap: 91.379B\n",
      "CRM Market Cap: 235.28B\n",
      "CSCO Market Cap: 170.015B\n",
      "CVX Market Cap: 140.314B\n",
      "DIS Market Cap: 229.153B\n",
      "DOW Market Cap: 36.537B\n",
      "GS Market Cap: 70.952B\n",
      "HD Market Cap: 309.654B\n",
      "HON Market Cap: 122.714B\n",
      "IBM Market Cap: 112.151B\n",
      "INTC Market Cap: 230.342B\n",
      "JNJ Market Cap: 389.921B\n",
      "JPM Market Cap: 309.423B\n",
      "KO Market Cap: 214.901B\n",
      "MCD Market Cap: 170.675B\n",
      "MMM Market Cap: 98.482B\n",
      "MRK Market Cap: 201.909B\n",
      "MSFT Market Cap: 1.662T\n",
      "NKE Market Cap: 200.938B\n",
      "PG Market Cap: 359.476B\n",
      "TRV Market Cap: 28.692B\n",
      "UNH Market Cap: 313.516B\n",
      "V Market Cap: 439.659B\n",
      "VZ Market Cap: 240.214B\n",
      "WBA Market Cap: 32.394B\n",
      "WMT Market Cap: 410.072B\n"
     ]
    }
   ],
   "source": [
    "for ticker, ticker_info in ticker_data.items():\n",
    "  print(f'{ticker} Market Cap: {ticker_info[\"Market Cap\"]}')"
   ]
  },
  {
   "cell_type": "code",
   "execution_count": 44,
   "metadata": {
    "colab": {
     "base_uri": "https://localhost:8080/",
     "height": 362
    },
    "id": "4AaD2HXGLssr",
    "outputId": "c9da7119-50ea-4657-8512-63db0400a289"
   },
   "outputs": [
    {
     "data": {
      "text/html": [
       "<div>\n",
       "<style scoped>\n",
       "    .dataframe tbody tr th:only-of-type {\n",
       "        vertical-align: middle;\n",
       "    }\n",
       "\n",
       "    .dataframe tbody tr th {\n",
       "        vertical-align: top;\n",
       "    }\n",
       "\n",
       "    .dataframe thead th {\n",
       "        text-align: right;\n",
       "    }\n",
       "</style>\n",
       "<table border=\"1\" class=\"dataframe\">\n",
       "  <thead>\n",
       "    <tr style=\"text-align: right;\">\n",
       "      <th></th>\n",
       "      <th>AMZN</th>\n",
       "      <th>GOOGL</th>\n",
       "      <th>TSLA</th>\n",
       "      <th>NKE</th>\n",
       "      <th>USDOLLAR</th>\n",
       "    </tr>\n",
       "    <tr>\n",
       "      <th>Date</th>\n",
       "      <th></th>\n",
       "      <th></th>\n",
       "      <th></th>\n",
       "      <th></th>\n",
       "      <th></th>\n",
       "    </tr>\n",
       "  </thead>\n",
       "  <tbody>\n",
       "    <tr>\n",
       "      <th>2018-03-21</th>\n",
       "      <td>-0.002931</td>\n",
       "      <td>-0.001643</td>\n",
       "      <td>0.019256</td>\n",
       "      <td>-0.006737</td>\n",
       "      <td>0.000068</td>\n",
       "    </tr>\n",
       "    <tr>\n",
       "      <th>2018-03-22</th>\n",
       "      <td>-0.023871</td>\n",
       "      <td>-0.037340</td>\n",
       "      <td>-0.023473</td>\n",
       "      <td>-0.029088</td>\n",
       "      <td>0.000068</td>\n",
       "    </tr>\n",
       "    <tr>\n",
       "      <th>2018-03-23</th>\n",
       "      <td>-0.031436</td>\n",
       "      <td>-0.025258</td>\n",
       "      <td>-0.024458</td>\n",
       "      <td>0.003260</td>\n",
       "      <td>0.000068</td>\n",
       "    </tr>\n",
       "    <tr>\n",
       "      <th>2018-03-26</th>\n",
       "      <td>0.040319</td>\n",
       "      <td>0.026828</td>\n",
       "      <td>0.008755</td>\n",
       "      <td>0.019650</td>\n",
       "      <td>0.000070</td>\n",
       "    </tr>\n",
       "    <tr>\n",
       "      <th>2018-03-27</th>\n",
       "      <td>-0.037799</td>\n",
       "      <td>-0.044731</td>\n",
       "      <td>-0.082188</td>\n",
       "      <td>0.004097</td>\n",
       "      <td>0.000070</td>\n",
       "    </tr>\n",
       "  </tbody>\n",
       "</table>\n",
       "</div>"
      ],
      "text/plain": [
       "                AMZN     GOOGL      TSLA       NKE  USDOLLAR\n",
       "Date                                                        \n",
       "2018-03-21 -0.002931 -0.001643  0.019256 -0.006737  0.000068\n",
       "2018-03-22 -0.023871 -0.037340 -0.023473 -0.029088  0.000068\n",
       "2018-03-23 -0.031436 -0.025258 -0.024458  0.003260  0.000068\n",
       "2018-03-26  0.040319  0.026828  0.008755  0.019650  0.000070\n",
       "2018-03-27 -0.037799 -0.044731 -0.082188  0.004097  0.000070"
      ]
     },
     "execution_count": 44,
     "metadata": {},
     "output_type": "execute_result"
    }
   ],
   "source": [
    "tickers = ['AMZN', 'GOOGL', 'TSLA', 'NKE']\n",
    "start_date='2012-01-01'\n",
    "end_date='2020-11-20'\n",
    "returns = pd.DataFrame(dict([(ticker, quandl.get('WIKI/'+ticker, \n",
    "                                    start_date=start_date, \n",
    "                                    end_date=end_date, api_key='ic1Q96b-rnXN1X1czyMi')['Adj. Close'].pct_change())\n",
    "                             for ticker in tickers]))\n",
    "returns[[\"USDOLLAR\"]]=quandl.get('FRED/DTB3', start_date=start_date, end_date=end_date, api_key='ic1Q96b-rnXN1X1czyMi')/(250*100)\n",
    "returns = returns.fillna(method='ffill').iloc[1:]\n",
    "\n",
    "returns.tail()"
   ]
  },
  {
   "cell_type": "code",
   "execution_count": 46,
   "metadata": {
    "id": "dhxRo5qoSyyY"
   },
   "outputs": [],
   "source": [
    "amzn_data = quandl.get('WIKI/AMZN', start_date=start_date, end_date=end_date, api_key='ic1Q96b-rnXN1X1czyMi')"
   ]
  },
  {
   "cell_type": "markdown",
   "metadata": {
    "id": "-QnJMOUeLssu"
   },
   "source": [
    "We compute rolling estimates of the first and second moments of the returns using a window of 250 days. We shift them by one unit (so at every day we present the optimizer with only past data)."
   ]
  },
  {
   "cell_type": "code",
   "execution_count": 49,
   "metadata": {
    "id": "Iw-7Iq_3Lssv"
   },
   "outputs": [
    {
     "data": {
      "text/html": [
       "<div>\n",
       "<style scoped>\n",
       "    .dataframe tbody tr th:only-of-type {\n",
       "        vertical-align: middle;\n",
       "    }\n",
       "\n",
       "    .dataframe tbody tr th {\n",
       "        vertical-align: top;\n",
       "    }\n",
       "\n",
       "    .dataframe thead th {\n",
       "        text-align: right;\n",
       "    }\n",
       "</style>\n",
       "<table border=\"1\" class=\"dataframe\">\n",
       "  <thead>\n",
       "    <tr style=\"text-align: right;\">\n",
       "      <th></th>\n",
       "      <th>AMZN</th>\n",
       "      <th>GOOGL</th>\n",
       "      <th>TSLA</th>\n",
       "      <th>NKE</th>\n",
       "      <th>USDOLLAR</th>\n",
       "    </tr>\n",
       "    <tr>\n",
       "      <th>Date</th>\n",
       "      <th></th>\n",
       "      <th></th>\n",
       "      <th></th>\n",
       "      <th></th>\n",
       "      <th></th>\n",
       "    </tr>\n",
       "  </thead>\n",
       "  <tbody>\n",
       "    <tr>\n",
       "      <th>2018-03-21</th>\n",
       "      <td>0.002640</td>\n",
       "      <td>0.001090</td>\n",
       "      <td>0.001124</td>\n",
       "      <td>0.000705</td>\n",
       "      <td>0.000046</td>\n",
       "    </tr>\n",
       "    <tr>\n",
       "      <th>2018-03-22</th>\n",
       "      <td>0.002605</td>\n",
       "      <td>0.001085</td>\n",
       "      <td>0.001132</td>\n",
       "      <td>0.000960</td>\n",
       "      <td>0.000046</td>\n",
       "    </tr>\n",
       "    <tr>\n",
       "      <th>2018-03-23</th>\n",
       "      <td>0.002513</td>\n",
       "      <td>0.000984</td>\n",
       "      <td>0.001042</td>\n",
       "      <td>0.000736</td>\n",
       "      <td>0.000046</td>\n",
       "    </tr>\n",
       "    <tr>\n",
       "      <th>2018-03-26</th>\n",
       "      <td>0.002395</td>\n",
       "      <td>0.000904</td>\n",
       "      <td>0.000813</td>\n",
       "      <td>0.000678</td>\n",
       "      <td>0.000046</td>\n",
       "    </tr>\n",
       "    <tr>\n",
       "      <th>2018-03-27</th>\n",
       "      <td>0.002551</td>\n",
       "      <td>0.000996</td>\n",
       "      <td>0.000740</td>\n",
       "      <td>0.000787</td>\n",
       "      <td>0.000046</td>\n",
       "    </tr>\n",
       "  </tbody>\n",
       "</table>\n",
       "</div>"
      ],
      "text/plain": [
       "                AMZN     GOOGL      TSLA       NKE  USDOLLAR\n",
       "Date                                                        \n",
       "2018-03-21  0.002640  0.001090  0.001124  0.000705  0.000046\n",
       "2018-03-22  0.002605  0.001085  0.001132  0.000960  0.000046\n",
       "2018-03-23  0.002513  0.000984  0.001042  0.000736  0.000046\n",
       "2018-03-26  0.002395  0.000904  0.000813  0.000678  0.000046\n",
       "2018-03-27  0.002551  0.000996  0.000740  0.000787  0.000046"
      ]
     },
     "execution_count": 49,
     "metadata": {},
     "output_type": "execute_result"
    }
   ],
   "source": [
    "r_hat = returns.rolling(window=250, min_periods=250).mean().shift(1).dropna()\n",
    "Sigma_hat = returns.rolling(window=250, min_periods=250, closed='neither').cov().dropna()\n",
    "\n",
    "r_hat.tail()"
   ]
  },
  {
   "cell_type": "markdown",
   "metadata": {
    "id": "l8Umb88ZNWVI"
   },
   "source": [
    "# Transaction Costs and Holding Costs"
   ]
  },
  {
   "cell_type": "markdown",
   "metadata": {
    "id": "IYrF8XSALssx"
   },
   "source": [
    "Here we define the transaction cost and holding cost model (sections 2.3 and 2.4 [of the paper](https://web.stanford.edu/~boyd/papers/cvx_portfolio.html)). The data can be expressed \n",
    "as \n",
    "- a scalar (like we're doing here), the same value for all assets and all time periods;\n",
    "- a Pandas Series indexed by the asset names, for asset-specific values; \n",
    "- a Pandas DataFrame indexed by timestamps with asset names as columns, for values that vary by asset and in time."
   ]
  },
  {
   "cell_type": "code",
   "execution_count": 51,
   "metadata": {
    "id": "VJDuWaRzLssy"
   },
   "outputs": [],
   "source": [
    "tcost_model=cp.TcostModel(half_spread=10E-4) # need: sigma, volumes (source from api)\n",
    "hcost_model=cp.HcostModel(borrow_costs=1E-4) # need: dividends (source from api)"
   ]
  },
  {
   "cell_type": "markdown",
   "metadata": {
    "id": "mBvEGieuNjbB"
   },
   "source": [
    "# Trading and Holding Constraints"
   ]
  },
  {
   "cell_type": "code",
   "execution_count": 72,
   "metadata": {
    "id": "gTJGtsW6NoOb"
   },
   "outputs": [],
   "source": [
    "long_only = cp.LongOnly()\n",
    "leverage_limit=cp.LeverageLimit(1)\n",
    "# max_trade = cp.MaxTrade(, max_fraction=0.15)"
   ]
  },
  {
   "cell_type": "markdown",
   "metadata": {
    "id": "Cto4Qqb3Nb1V"
   },
   "source": [
    "# Risk Model"
   ]
  },
  {
   "cell_type": "code",
   "execution_count": 73,
   "metadata": {
    "id": "YFLg7cnHLss3"
   },
   "outputs": [],
   "source": [
    "risk_model = cp.FullSigma(Sigma_hat.reset_index(level=1, drop=True))"
   ]
  },
  {
   "cell_type": "markdown",
   "metadata": {
    "id": "09_Bj803Nuf_"
   },
   "source": [
    "# Full Optimization Policy"
   ]
  },
  {
   "cell_type": "markdown",
   "metadata": {
    "id": "NY5d5BToLss1"
   },
   "source": [
    "We define the single period optimization policy (section 4 [of the paper](https://web.stanford.edu/~boyd/papers/cvx_portfolio.html)). "
   ]
  },
  {
   "cell_type": "code",
   "execution_count": 74,
   "metadata": {
    "id": "8CtZkNT-Nwf9"
   },
   "outputs": [],
   "source": [
    "gamma_risk, gamma_trade, gamma_hold = 5., 1., 1.\n",
    "\n",
    "spo_policy = cp.SinglePeriodOpt(return_forecast=r_hat, \n",
    "                                costs=[gamma_risk*risk_model, gamma_trade*tcost_model, gamma_hold*hcost_model],\n",
    "                                constraints=[leverage_limit, long_only])"
   ]
  },
  {
   "cell_type": "markdown",
   "metadata": {
    "id": "WAmVgVy0Lss9"
   },
   "source": [
    "We run a backtest, which returns a result object. By calling its summary method we get some basic statistics."
   ]
  },
  {
   "cell_type": "code",
   "execution_count": 75,
   "metadata": {
    "id": "JDiTSb57Lss-"
   },
   "outputs": [
    {
     "name": "stdout",
     "output_type": "stream",
     "text": [
      "Number of periods                              1007\n",
      "Initial timestamp               2013-01-03 00:00:00\n",
      "Final timestamp                 2016-12-30 00:00:00\n",
      "Portfolio return (%)                         23.011\n",
      "Excess return (%)                            22.895\n",
      "Excess risk (%)                              19.125\n",
      "Sharpe ratio                                  1.198\n",
      "Max. drawdown                                19.860\n",
      "Turnover (%)                                 54.248\n",
      "Average policy time (sec)                     0.034\n",
      "Average simulator time (sec)                  0.003\n"
     ]
    }
   ],
   "source": [
    "market_sim=cp.MarketSimulator(returns, [tcost_model, hcost_model], cash_key='USDOLLAR') \n",
    "init_portfolio = pd.Series(index=returns.columns, data=250000.)\n",
    "init_portfolio.USDOLLAR = 0\n",
    "results = market_sim.run_multiple_backtest(init_portfolio,\n",
    "                               start_time='2013-01-03',  end_time='2016-12-31',  \n",
    "                               policies=[spo_policy, cp.Hold()], parallel=False)\n",
    "results[0].summary()"
   ]
  },
  {
   "cell_type": "markdown",
   "metadata": {
    "id": "POoXEKLtLstD"
   },
   "source": [
    "The total value of the portfolio in time."
   ]
  },
  {
   "cell_type": "code",
   "execution_count": 70,
   "metadata": {
    "id": "VvvSDv9OLstE"
   },
   "outputs": [
    {
     "data": {
      "text/plain": [
       "<matplotlib.axes._subplots.AxesSubplot at 0xa23dad860>"
      ]
     },
     "execution_count": 70,
     "metadata": {},
     "output_type": "execute_result"
    },
    {
     "data": {
      "image/png": "[encoded data removed]",
      "text/plain": [
       "<Figure size 864x360 with 1 Axes>"
      ]
     },
     "metadata": {
      "needs_background": "light"
     },
     "output_type": "display_data"
    }
   ],
   "source": [
    "results[0].v.plot(figsize=(12,5))\n",
    "results[1].v.plot(figsize=(12,5))"
   ]
  },
  {
   "cell_type": "markdown",
   "metadata": {
    "id": "8PLQ7qY4LstG"
   },
   "source": [
    "The weights vector of the portfolio in time."
   ]
  },
  {
   "cell_type": "code",
   "execution_count": 71,
   "metadata": {
    "id": "yaGh3X1jLstH"
   },
   "outputs": [
    {
     "data": {
      "text/plain": [
       "<matplotlib.axes._subplots.AxesSubplot at 0xa23dc7f98>"
      ]
     },
     "execution_count": 71,
     "metadata": {},
     "output_type": "execute_result"
    },
    {
     "data": {
      "image/png": "[encoded data removed]",
      "text/plain": [
       "<Figure size 864x432 with 1 Axes>"
      ]
     },
     "metadata": {
      "needs_background": "light"
     },
     "output_type": "display_data"
    }
   ],
   "source": [
    "results[0].w.plot(figsize=(12,6))"
   ]
  },
  {
   "cell_type": "code",
   "execution_count": null,
   "metadata": {},
   "outputs": [],
   "source": []
  }
 ],
 "metadata": {
  "anaconda-cloud": {},
  "colab": {
   "collapsed_sections": [],
   "name": "HelloWorld.ipynb",
   "provenance": []
  },
  "kernelspec": {
   "display_name": "Python 3",
   "language": "python",
   "name": "python3"
  },
  "language_info": {
   "codemirror_mode": {
    "name": "ipython",
    "version": 3
   },
   "file_extension": ".py",
   "mimetype": "text/x-python",
   "name": "python",
   "nbconvert_exporter": "python",
   "pygments_lexer": "ipython3",
   "version": "3.6.10"
  }
 },
 "nbformat": 4,
 "nbformat_minor": 1
}
